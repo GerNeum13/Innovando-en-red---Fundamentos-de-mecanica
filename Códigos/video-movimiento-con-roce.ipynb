{
 "cells": [
  {
   "cell_type": "markdown",
   "id": "7d249718",
   "metadata": {
    "id": "7d249718"
   },
   "source": [
    "Este código está basado en el video, por Rhett Allain (2022):\n",
    "https://www.youtube.com/watch?v=mNjxr2Ht17g"
   ]
  },
  {
   "cell_type": "markdown",
   "id": "42dcd24a",
   "metadata": {},
   "source": [
    "# Caída libre horizontal: sin y con roce\n",
    "\n",
    "En este código se estudiará la caída vertical con movimiento horizontal. Esto lo haremos considerando un movimiento sin roce, y luego considerando un roce no nulo, mostrando 2 ejemplos. El cálculo se hará mediante integración numérica simple, y se hará uso de notación vectorial usando el módulo numpy de python."
   ]
  },
  {
   "cell_type": "markdown",
   "id": "f337354c",
   "metadata": {},
   "source": [
    "## Caída libre sin roce\n",
    "\n",
    "Primero, se hará el análisis de la caída vertical con movimiento horizontal sin resistencia del aire. Este es el clásico estudio de movimiento de proyectil que se estudia en los primeros cursos de mecánica. \n",
    "\n",
    "En este caso, la única fuerza involucrada es la gravedad,\n",
    "$$\n",
    "\\vec{F}_\\text{total} = \\vec{g} = g (-\\hat{j}),\n",
    "$$\n",
    "donde hemos definido el eje vertical con el vector unitario $\\hat{j}$ positivo hacia arriba. \n",
    "\n",
    "Resolveremos el problema de encontrar la posición en función del tiempo con una integración numérica simple, como se hizo en el código video-integración.ipynb. Además, se usará el paquete numpy para poder hacerlo de manera vectorial, de manera de condensar los cálculos de ambos ejes."
   ]
  },
  {
   "cell_type": "code",
   "execution_count": 1,
   "id": "8d94eef3",
   "metadata": {},
   "outputs": [],
   "source": [
    "import numpy as np                #Se importan los módulos que usaremos \n",
    "import matplotlib.pyplot as plt\n",
    "plt.style.use('bmh')"
   ]
  },
  {
   "cell_type": "code",
   "execution_count": 2,
   "id": "6bdd76f0",
   "metadata": {},
   "outputs": [],
   "source": [
    "#Se definen las condiciones iniciales de integración.\n",
    "\n",
    "g = np.array([0, -9.8])  # Acá ocupamos en comando array del paquete numpy para escribir la gravedad como un vector\n",
    "\n",
    "h = 25      # Altura inicial, en metros \n",
    "v0 = 4      # Velocidad ohrizontal inicial, en m/s\n",
    "M = 0.04    # Masa del cuerpo, en kg\n",
    "    \n",
    "\n",
    "\n"
   ]
  },
  {
   "cell_type": "code",
   "execution_count": 3,
   "id": "a4cb13d6",
   "metadata": {},
   "outputs": [
    {
     "data": {
      "text/plain": [
       "[<matplotlib.lines.Line2D at 0x29e63445c10>]"
      ]
     },
     "execution_count": 3,
     "metadata": {},
     "output_type": "execute_result"
    },
    {
     "data": {
      "image/png": "[encoded data removed]",
      "text/plain": [
       "<Figure size 432x288 with 1 Axes>"
      ]
     },
     "metadata": {
      "needs_background": "light"
     },
     "output_type": "display_data"
    }
   ],
   "source": [
    "x1 = np.array([0, h])    # Posición inicial, escrita en forma vectoial\n",
    "v1 = np.array([v0, 0])   # Velocidad inicial, es forma vectorial\n",
    "\n",
    "t = 0              # Tiempo inicial en segundos\n",
    "Dt = 0.01          # Intervalo de tiempo, en segundos\n",
    "\n",
    "x1_array = []      # Inicializamos las variables que almacenarán los resultado  en forma de arreglo, para ser graficados.\n",
    "y1_array = []      # las posiciones en x y en y por separado\n",
    "\n",
    "while x1[1] > 0:   # Control del cálculo. El cálculo se realiza en ciclos, mientras que la coordenada y sea positiva, hasta que el cuerpo llegue al suelo     \n",
    "    F = M*g        # Fuerza involucrada, que corresponde sólo a la de gravedad\n",
    "\n",
    "    #Se hace el cálculo, antualizando las variables de velocidad, posición y tiempo.\n",
    "    v1 = v1 + F*Dt/M   \n",
    "    x1 = x1 + v1*Dt\n",
    "    t = t + Dt\n",
    "    x1_array.append(x1[0])   # Guardamos el resultado del eje x\n",
    "    y1_array.append(x1[1])   # Guardamos el resultado del eje y\n",
    "\n",
    "    #plt.scatter(x1[0], x1[1], marker='x', c='blue', s=10)  # Markers más chicos (cirulos o puntitos)\n",
    "\n",
    "plt.plot(x1_array, y1_array, c='blue') #marker = 'o-' \n",
    "#Labels\n"
   ]
  },
  {
   "cell_type": "markdown",
   "id": "4858d66b",
   "metadata": {},
   "source": [
    "## Roce lineal\n",
    "\n",
    "El primer caso de roce que analizaremos es en el que el aire ejerce una resistencia proporcional a la velocidad, es decir, un roce lineal. Esto es,\n",
    "$$\n",
    "\\vec{F_r} = -b \\vec{v},\n",
    "$$\n",
    "donde la fuerza es proporcional a la velocidad y con sentido opuesto a ella, y $b$ es una constante de proporcionalidad que depende de las propiedades del medio, e.g. el aire, y de la forma del cuerpo en estudio, y tiene unidades de fuerza/velocidad, Ns/m. De esta manera, la fuerza total es \n",
    "$$\n",
    "\\vec{F}_\\text{total} = \\vec{g} + \\vec{F}_r = g (-\\hat{j}) - b \\vec{v}.\n",
    "$$\n",
    "Para este ejemplo, se usará que $b = 0.1$ Ns/m."
   ]
  },
  {
   "cell_type": "code",
   "execution_count": 4,
   "id": "c61df560",
   "metadata": {},
   "outputs": [
    {
     "data": {
      "image/png": "[encoded data removed]",
      "text/plain": [
       "<Figure size 432x288 with 1 Axes>"
      ]
     },
     "metadata": {
      "needs_background": "light"
     },
     "output_type": "display_data"
    }
   ],
   "source": [
    "b = 0.1                   # La constante de proporcionalidad de la fuerza\n",
    "  \n",
    "x2 = np.array([0, h])     # Posición inicial, escrita en forma vectoial\n",
    "v2 = np.array([v0, 0])    # Velocidad inicial, es forma vectorial\n",
    "\n",
    "t = 0              # Tiempo inicial en segundos\n",
    "Dt = 0.01          # Intervalo de tiempo, en segundos\n",
    " \n",
    "x2_array = []   \n",
    "y2_array = []\n",
    "\n",
    "while x2[1] > 0:  \n",
    "    F = M*g - b*v2       # Fuerza involucrada, la gravedad más la resistencia lineal del aire\n",
    "    v2 = v2 + F*Dt/M  \n",
    "    x2 = x2 + v2*Dt\n",
    "    t = t + Dt\n",
    "    x2_array.append(x2[0])\n",
    "    y2_array.append(x2[1])\n",
    "\n",
    "    #plt.scatter(x2[0], x2[1], marker='+', c='blue')\n",
    "\n",
    "plt.plot(x2_array, y2_array, c='red') \n",
    "plt.grid(True)              # Ponemos una grilla en el gráfico, para ver mejor cómo cambian las variables.\n",
    "plt.xlabel('$x\\ \\\\rm [m]$') # Etiqueta del eje x, escrita en entorno matemático LaTeX\n",
    "plt.ylabel('$y\\ \\\\rm [m]$') # Etiqueta del eje y\n",
    "#plt.savefig('x_vs_t.png')\n",
    "plt.show()"
   ]
  },
  {
   "cell_type": "markdown",
   "id": "aea36a58",
   "metadata": {},
   "source": [
    "## Roce cuadrático\n",
    "En este segundo caso, el aire ejerce una resistencia proporcional al cuadrado de la velocidad, es decir, estamos considerando un roce cuadrático.\n",
    "$$\n",
    "\\vec{F}_r = - C |v|^2 \\hat{v}     \n",
    "$$\n",
    "es decir, la fuerza de roce es igual a un coeficiente de roce $C$ (que similarmente al caso anterior depende de las propiedades del medio y de la forma del cuerpo en movimiento, y con unidades de $Ns^2/m^2$) por la magnitud de la velocidad al cuadrado por el vector unitario que apunta en la dirección de la velocidad, con un signo menos delante para cuantificar que la fuerza de roce se opone al movimiento.\n",
    "\n",
    "En general, es muy probable que se tenga una combinación de ambas resistencias, lineal y cuadrática. En este caso las analizaremos por separado, como si existiera sólo una de ellas, para simplificar el análisis.\n",
    "\n",
    "Notar que \n",
    "$$\n",
    "|v|^2 \\hat{v} = (|v|\\hat{v})|v| = \\vec{v}|v|.  \\qquad  (1)\n",
    "$$\n",
    "Esto lo usaremos en el código.\n",
    "\n",
    "Para este ejemplo, se usará que $C = 0.1$ $Ns^2/m^2$."
   ]
  },
  {
   "cell_type": "code",
   "execution_count": 5,
   "id": "825a99a8",
   "metadata": {},
   "outputs": [
    {
     "data": {
      "text/plain": [
       "array([ 35.77708764, -71.55417528])"
      ]
     },
     "execution_count": 5,
     "metadata": {},
     "output_type": "execute_result"
    }
   ],
   "source": [
    "vt = np.array([v0, -2*v0])\n",
    "np.sqrt(np.sum(vt*vt))*vt "
   ]
  },
  {
   "cell_type": "code",
   "execution_count": 6,
   "id": "1b7aad77",
   "metadata": {},
   "outputs": [
    {
     "data": {
      "image/png": "[encoded data removed]",
      "text/plain": [
       "<Figure size 432x288 with 1 Axes>"
      ]
     },
     "metadata": {
      "needs_background": "light"
     },
     "output_type": "display_data"
    }
   ],
   "source": [
    "C = 0.1                    # La constante de proporcionalidad de la fuerza, en Ns^2/m^2\n",
    "\n",
    "x3   = np.array([0, h]) \n",
    "v3 = np.array([v0, 0])\n",
    "\n",
    "t = 0\n",
    "Dt = 0.01\n",
    "\n",
    "x3_array = []\n",
    "y3_array = []\n",
    "\n",
    "while x3[1] > 0:\n",
    "    F = M*g - C*v3*np.sqrt(np.sum(v3*v3))   # Fuerza involucrada, la gravedad más la resistencia cuadrática del aire.  \n",
    "                                    # En este caso, la fuerza se modela en el código como el vector velocidad multiplicado\n",
    "                                    # por su módulo, como se mostró en (1).\n",
    "                                    # En este caso, np.sqrt(np.sum(v3*v3)) corresponde al módulo del vector v3\n",
    "    \n",
    "    v3 = v3 + F*Dt/M\n",
    "    x3 = x3 + v3*Dt\n",
    "    t = t + Dt\n",
    "    x3_array.append(x3[0])\n",
    "    y3_array.append(x3[1])\n",
    "\n",
    "    #plt.scatter(x3[0], x3[1], marker='+', c='blue')\n",
    "\n",
    "plt.plot(x3_array, y3_array, c='green') \n",
    "plt.grid(True)              # Ponemos una grilla en el gráfico, para ver mejor cómo cambian las variables.\n",
    "plt.xlabel('$x\\ \\\\rm [m]$') # Etiqueta del eje x, escrita en entorno matemático LaTeX\n",
    "plt.ylabel('$y\\ \\\\rm [m]$') # Etiqueta del eje y\n",
    "#plt.savefig('x_vs_t.png')\n",
    "plt.show()"
   ]
  },
  {
   "cell_type": "markdown",
   "id": "d97455fb",
   "metadata": {},
   "source": [
    "En la siguente celda, se mostrarán los 3 ejemplos en el mismo gráfico, para poder compararlos."
   ]
  },
  {
   "cell_type": "code",
   "execution_count": 7,
   "id": "afc62893",
   "metadata": {},
   "outputs": [
    {
     "data": {
      "image/png": "[encoded data removed]",
      "text/plain": [
       "<Figure size 432x288 with 1 Axes>"
      ]
     },
     "metadata": {
      "needs_background": "light"
     },
     "output_type": "display_data"
    }
   ],
   "source": [
    "plt.plot(x1_array, y1_array, c='blue', label='sin roce') #, marker='+')     # Se grafica la diferencia entre las soluciones analítica y numérica\n",
    "plt.plot(x2_array, y2_array, c='red', label='roce lineal') #, marker='+')       \n",
    "plt.plot(x3_array, y3_array, c='green', label='roce cuadrático') #, marker='+')\n",
    "\n",
    "plt.grid(True)              # Ponemos una grilla en el gráfico, para ver mejor cómo cambian las variables.\n",
    "plt.xlabel('$x\\ \\\\rm [m]$') # Etiqueta del eje x, escrita en entorno matemático LaTeX\n",
    "plt.ylabel('$y \\\\rm [m]$') # Etiqueta del eje y\n",
    "#plt.savefig('x_vs_t.png')\n",
    "plt.legend()                # Con este comando se agrega al gráfico las legendas de cada valor graficado\n",
    "plt.show()\n"
   ]
  },
  {
   "cell_type": "markdown",
   "id": "17628577",
   "metadata": {},
   "source": [
    "## Versión interactiva\n",
    "\n",
    "Finalmente, se presentará una versión del código completa que funciona de manera interactiva, en el cual podemos modificar los distintos parámetros del cálculo para ver cómo varía el resultado con el cambio del valor de las variables."
   ]
  },
  {
   "cell_type": "code",
   "execution_count": 8,
   "id": "e29eca9a",
   "metadata": {},
   "outputs": [],
   "source": [
    "from ipywidgets import interact    # Importamos la función interact del paquete ipywidgets, que usaremos para hacer\n",
    "                                   # los gráficos interactivos"
   ]
  },
  {
   "cell_type": "code",
   "execution_count": 9,
   "id": "6b5ec1ac",
   "metadata": {},
   "outputs": [],
   "source": [
    "# Para que la función interact funcione, se debe definir todo lo que se va a modificar como una función\n",
    "\n",
    "def graf_interact(h, v0, b, C):  # Encabezado de la función. los valores que queremos que cambien serán \n",
    "                                 # los argumentos de la función.\n",
    "                                 # En este caso, serán la altura h, la velocidad horizontal inicial v0,\n",
    "                                 # el coeficiente de roce lineal b y el coeficiende de roce cuadrático C\n",
    "\n",
    "    # Acá van toas las líneas necesarias para implementar el gráfico con los 3 roces diferentes.\n",
    "                                                                \n",
    "    x1 = np.array([0, h])    # Posición inicial, escrita en forma vectoial\n",
    "    v1 = np.array([v0, 0])   # Velocidad inicial, es forma vectorial\n",
    "\n",
    "    t = 0              # Tiempo inicial en segundos\n",
    "    Dt = 0.01          # Intervalo de tiempo, en segundos\n",
    "\n",
    "    x1_array = []      # Inicializamos las variables que almacenarán los resultado  en forma de arreglo, para ser graficados.\n",
    "    y1_array = []      # las posiciones en x y en y por separado\n",
    "\n",
    "    while x1[1] > 0:   # Control del cálculo. El cálculo se realiza en ciclos, mientras que la coordenada y sea positiva, hasta que el cuerpo llegue al suelo     \n",
    "        F = M*g        # Fuerza involucrada, que corresponde sólo a la de gravedad\n",
    "\n",
    "        #Se hace el cálculo, antualizando las variables de velocidad, posición y tiempo.\n",
    "        v1 = v1 + F*Dt/M   \n",
    "        x1 = x1 + v1*Dt\n",
    "        t = t + Dt\n",
    "        x1_array.append(x1[0])   # Guardamos el resultado del eje x\n",
    "        y1_array.append(x1[1])   # Guardamos el resultado del eje y\n",
    "\n",
    "  \n",
    "    x2 = np.array([0, h])     # Posición inicial, escrita en forma vectoial\n",
    "    v2 = np.array([v0, 0])    # Velocidad inicial, es forma vectorial\n",
    "\n",
    "    t = 0              # Tiempo inicial en segundos\n",
    "    Dt = 0.01          # Intervalo de tiempo, en segundos\n",
    "    \n",
    "    x2_array = []   \n",
    "    y2_array = []\n",
    "\n",
    "    while x2[1] > 0:  \n",
    "        F = M*g - b*v2       # Fuerza involucrada, la gravedad más la resistencia lineal del aire\n",
    "        v2 = v2 + F*Dt/M  \n",
    "        x2 = x2 + v2*Dt\n",
    "        t = t + Dt\n",
    "        x2_array.append(x2[0])\n",
    "        y2_array.append(x2[1])\n",
    "\n",
    "\n",
    "    x3   = np.array([0, h]) \n",
    "    v3 = np.array([v0, 0])\n",
    "\n",
    "    t = 0\n",
    "    Dt = 0.01\n",
    "\n",
    "    x3_array = []\n",
    "    y3_array = []\n",
    "\n",
    "    while x3[1] > 0:\n",
    "        F = M*g - C*v3*np.sqrt(np.sum(v3*v3))   # Fuerza involucrada, la gravedad más la resistencia cuadrática del aire.  \n",
    "                                        # En este caso, la fuerza se modela en el código como el vector velocidad multiplicado\n",
    "                                        # por su módulo, como se mostró en (1).\n",
    "                                        # En este caso, np.sqrt(np.sum(v3*v3)) corresponde al módulo del vector v3\n",
    "        \n",
    "        v3 = v3 + F*Dt/M\n",
    "        x3 = x3 + v3*Dt\n",
    "        t = t + Dt\n",
    "        x3_array.append(x3[0])\n",
    "        y3_array.append(x3[1])\n",
    "\n",
    "    plt.plot(x1_array, y1_array, c='blue', label='sin roce') #, marker='+')     # Se grafica la diferencia entre las soluciones analítica y numérica\n",
    "    plt.plot(x2_array, y2_array, c='red', label='roce lineal, b = '+str(b)) #, marker='+')       \n",
    "    plt.plot(x3_array, y3_array, c='green', label='roce cuadrático, C = '+str(C)) #, marker='+')\n",
    "\n",
    "    plt.grid(True)              # Ponemos una grilla en el gráfico, para ver mejor cómo cambian las variables.\n",
    "    plt.xlabel('$x\\ \\\\rm [m]$') # Etiqueta del eje x, escrita en entorno matemático LaTeX\n",
    "    plt.ylabel('$y\\ \\\\rm [m]$') # Etiqueta del eje y\n",
    "    #plt.savefig('x_vs_t.png')\n",
    "    plt.ylim(0,32)\n",
    "    plt.xlim(0,25)\n",
    "    plt.legend()                # Con este comando se agrega al gráfico las legendas de cada valor graficado\n",
    "    plt.show()"
   ]
  },
  {
   "cell_type": "code",
   "execution_count": 10,
   "id": "01e032cf",
   "metadata": {},
   "outputs": [
    {
     "data": {
      "application/vnd.jupyter.widget-view+json": {
       "model_id": "60f00f6def11464bad26b9ed869b5343",
       "version_major": 2,
       "version_minor": 0
      },
      "text/plain": [
       "interactive(children=(IntSlider(value=25, description='h', max=30, min=20), FloatSlider(value=8.0, description…"
      ]
     },
     "metadata": {},
     "output_type": "display_data"
    },
    {
     "data": {
      "text/plain": [
       "<function __main__.graf_interact(h, v0, b, C)>"
      ]
     },
     "execution_count": 10,
     "metadata": {},
     "output_type": "execute_result"
    }
   ],
   "source": [
    "# Implementamos la función interact.\n",
    "# Los argumentos de la función interact son la función que produce el gráfico que queremos mostrar de manera interactiva,\n",
    "# y las variables interactivas, que corresponden a los argumentos de la función que grafica.\n",
    "# Las variables interactivas se programan incluyendo el nombre de la variable y su rango, escrito como (mínimo, máximo, paso).\n",
    "# En la salida aparecen las variables interacticas con un slider para cada una\n",
    "\n",
    "interact(graf_interact, h=(20, 30, 1), v0=(6,10,0.5), b=(0,0.1, 0.01), C=(0,0.02, 0.002))"
   ]
  },
  {
   "cell_type": "code",
   "execution_count": null,
   "id": "b97558e4",
   "metadata": {},
   "outputs": [],
   "source": []
  }
 ],
 "metadata": {
  "colab": {
   "name": "caida-vertical.ipynb",
   "provenance": []
  },
  "kernelspec": {
   "display_name": "Python 3 (ipykernel)",
   "language": "python",
   "name": "python3"
  },
  "language_info": {
   "codemirror_mode": {
    "name": "ipython",
    "version": 3
   },
   "file_extension": ".py",
   "mimetype": "text/x-python",
   "name": "python",
   "nbconvert_exporter": "python",
   "pygments_lexer": "ipython3",
   "version": "3.9.12"
  },
  "vscode": {
   "interpreter": {
    "hash": "4cd28790703ce3bb6dcb427ace24f71a3069bf0458cb4f1d5e2a3e723eb1e9df"
   }
  }
 },
 "nbformat": 4,
 "nbformat_minor": 5
}
