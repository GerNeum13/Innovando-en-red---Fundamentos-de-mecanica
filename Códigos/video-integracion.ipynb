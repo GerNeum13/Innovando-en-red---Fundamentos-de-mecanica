{
 "cells": [
  {
   "cell_type": "markdown",
   "id": "7d249718",
   "metadata": {
    "id": "7d249718"
   },
   "source": [
    "Este código está basado en el video, por Rhett Allain (2021):\n",
    "https://www.youtube.com/watch?v=jrUIvOp7Grk\n",
    "\n",
    "El detalle del código puede encontrarse en \n",
    "https://rhettallain_gmail_com.trinket.io/physics-python-for-mere-mortals#/beginning-numerical-calculations/car-moving-with-a-constant-velocity\n"
   ]
  },
  {
   "cell_type": "markdown",
   "id": "64178919",
   "metadata": {},
   "source": [
    "# Introducción a la integración numérica de una ecuación de movimiento con Python."
   ]
  },
  {
   "cell_type": "markdown",
   "id": "2221e383",
   "metadata": {},
   "source": [
    "# Caso 1: Velocidad constante\n",
    "\n",
    "Consideremos el siguiente problema: Un cuerpo tiene un movimiento unidimensional, a lo largo del eje $x$. Su posición en $t=0$ es $x = 0$ y su velocidad es constante e igual a $0.45 m/s$. ¿Dónde estará el cuerpo en el tiempo $t = 1.5 s$?\n",
    "\n",
    "Para responder esta pregunta, intentaremos integrar la velocidad, aplicando un sencillo método de integración numérica."
   ]
  },
  {
   "cell_type": "markdown",
   "id": "21d4ee1a",
   "metadata": {},
   "source": [
    "Físicamente, y de manera exacta, la velocidad es la derivada de la posición respecto del tiempo. En una dimensión, esto es\n",
    "$$\n",
    "v = \\dfrac{d x}{d t}.\n",
    "$$\n",
    "Para una velocidad constante (o promedio), podemos escribir\n",
    "$$\n",
    "v_{\\rm prom} = \\dfrac{\\Delta x}{\\Delta t}.\n",
    "$$\n",
    "Expandiendo el cambio de posición, se puede resolver esta igualdad para la posición final\n",
    "$$\n",
    "v_{\\rm prom} = \\dfrac{x_2 - x_1 }{\\Delta t},\n",
    "$$\n",
    "***comentario *** de donde encontramos\n",
    "$$\n",
    "x_2 = x_1 + v_{\\rm prom}\\Delta t.\n",
    "$$\n",
    "Reemplazando, \n",
    "$$\n",
    "x_2 = (0m) + (0.45 \\, m/s)(1.5 \\, s) = 0.675 \\, m.\n",
    "$$\n",
    "\n",
    "*** Comentario: si delta t es chico, la vel prom se aproxima a la velocidad instananea, pue spor definicion la vel instantaea es el límite cuando delta t se hace 0 ***\n",
    "***o bien remarcar que la velocidad es constante, por lo que no sería necesario lo anterior ***\n",
    "*** o sacar vel prom, puesto que hay sólo 1 velocidad ***\n"
   ]
  },
  {
   "cell_type": "markdown",
   "id": "68bf8604",
   "metadata": {},
   "source": [
    "### Dividiendo el problema en pequeñas partes \n",
    "\n",
    "Considere un problema similar. ¿Dónde estará el mismo cuerpo luego de 0.25 s? \n",
    "\n",
    "Ahora, suponga que el cuerpo continúa moviéndose por otros 0.25 s. ¿Dónde estará ahora?\n",
    "\n",
    "¿Cuántos pasos de 0.25 segundos se necesitan para calcular la posición del cuerpo a los 1.5 s? ¿Qué pasaría si se ocupara un intervalo de tiempo de 0.1 segundos para llegar a los 1.5 s? ¿Cuántos pasos se necesitarían en este caso?\n",
    "\n",
    "Para hacer esto debemos considerar que, si se conoce la posición $x$ de un objeto en un momento en particular, y se conoce la velocidad promedio, se puede encontrar facilmente la posición en el momento siguiente, de manera recursiva actualizando los valores de la posición. Por ejemplo, si ya calculamos la posición 2 a partir de la 1, y se quiere conocer la posición 3, se ocupa la misma fórmula ya encontrada para encontrar $x_3$ como\n",
    "$$\n",
    "x_3 = x_2 + v_{\\rm prom} \\, \\Delta t,\n",
    "$$\n",
    "donde $\\Delta t$ es el mismo intervalo de tiempo. De manera similar, para encontrar la posición $x_4$, a partir de la posición $x_3$, usamos\n",
    "$$\n",
    "x_4 = x_3 + v_{\\rm prom} \\, \\Delta t.\n",
    "$$\n",
    "Así, ocupamos esta fórmula manera recursiva para encontrar las posiciones siguientes.\n"
   ]
  },
  {
   "cell_type": "code",
   "execution_count": 1,
   "id": "7b1fef26",
   "metadata": {},
   "outputs": [],
   "source": [
    "import numpy as np                #Se importan los módulos que usaremos \n",
    "import matplotlib.pyplot as plt\n",
    "plt.style.use('bmh')"
   ]
  },
  {
   "cell_type": "markdown",
   "id": "dda4599e",
   "metadata": {},
   "source": [
    "Primer cálculo: considerando un paso de 0.25 s."
   ]
  },
  {
   "cell_type": "code",
   "execution_count": 2,
   "id": "cd57e36d",
   "metadata": {},
   "outputs": [],
   "source": [
    "#Se define primero las condiciones iniciales\n",
    "x = 0      # Posición inicial, en metros\n",
    "t = 0      # Tiempo inicial, en segundos\n",
    "v = 0.45   # Velocidad promedio, en m/s"
   ]
  },
  {
   "cell_type": "code",
   "execution_count": 3,
   "id": "806ddbe7",
   "metadata": {},
   "outputs": [
    {
     "name": "stdout",
     "output_type": "stream",
     "text": [
      "t =  0.25  s,   x =  0.1125  m\n",
      "t =  0.5  s,   x =  0.225  m\n",
      "t =  0.75  s,   x =  0.3375  m\n",
      "t =  1.0  s,   x =  0.45  m\n",
      "t =  1.25  s,   x =  0.5625  m\n",
      "t =  1.5  s,   x =  0.675  m\n"
     ]
    }
   ],
   "source": [
    "#Ahora, definimos el intervalo de tiempo\n",
    "Dt = 0.25  #Intervalo de tiempo, en segundos\n",
    "\n",
    "#Se hace el cálculo.\n",
    "while t < 1.5:              # Control del tiempo total. El cálculo se realiza en ciclos, mientras el tiempo no supere el máximo al cual queremos llegar.\n",
    "    x = x + v*Dt            # Se actualiza la posición. Puesto que esta línes está dentro de un ciclo, \n",
    "                            # corresponde a una actualización del valor inicial en cada ciclo\n",
    "    t = t + Dt              # Se actualiza el tiempo total, sumándole el intervalo de tiempo que se está utilizando.\n",
    "    print(\"t = \", t, \" s,   x = \", x, \" m\")   # Mostramos los valores de tiempo y posición para cada paso\n",
    "    "
   ]
  },
  {
   "cell_type": "markdown",
   "id": "b6bb8d90",
   "metadata": {},
   "source": [
    "Como se puede ver, a $t = 1.5$ s, se llega a los 0.675 m. \n",
    "\n",
    "Se intenta ahora hacer con un paso de tiempo de $\\Delta t = 0.1$ s."
   ]
  },
  {
   "cell_type": "code",
   "execution_count": 4,
   "id": "7d54dc74",
   "metadata": {},
   "outputs": [
    {
     "name": "stdout",
     "output_type": "stream",
     "text": [
      "t =  0.1  s,   x =  0.045000000000000005  m\n",
      "t =  0.2  s,   x =  0.09000000000000001  m\n",
      "t =  0.30000000000000004  s,   x =  0.135  m\n",
      "t =  0.4  s,   x =  0.18000000000000002  m\n",
      "t =  0.5  s,   x =  0.22500000000000003  m\n",
      "t =  0.6  s,   x =  0.27  m\n",
      "t =  0.7  s,   x =  0.315  m\n",
      "t =  0.7999999999999999  s,   x =  0.36  m\n",
      "t =  0.8999999999999999  s,   x =  0.40499999999999997  m\n",
      "t =  0.9999999999999999  s,   x =  0.44999999999999996  m\n",
      "t =  1.0999999999999999  s,   x =  0.49499999999999994  m\n",
      "t =  1.2  s,   x =  0.5399999999999999  m\n",
      "t =  1.3  s,   x =  0.585  m\n",
      "t =  1.4000000000000001  s,   x =  0.63  m\n",
      "t =  1.5000000000000002  s,   x =  0.675  m\n"
     ]
    }
   ],
   "source": [
    "#Reiniciamos las variables a su valor inicial original\n",
    "x = 0      # Posición inicial, en metros\n",
    "t = 0      # Tiempo inicial, en segundos\n",
    "v = 0.45   # Velocidad promedio, en m/s\n",
    "\n",
    "#Ahora, definimos el intervalo de tiempo\n",
    "Dt = 0.1  #Intervalo de tiempo, en segundos\n",
    "\n",
    "#Se hace el cálculo. Misma idea de la celda de código anterior\n",
    "while t < 1.5:  #\n",
    "    x = x + v*Dt\n",
    "    t = t + Dt\n",
    "    print(\"t = \", t, \" s,   x = \", x, \" m\")"
   ]
  },
  {
   "cell_type": "markdown",
   "id": "9e766bca",
   "metadata": {},
   "source": [
    "Como se puede ver aquí, a $t = 1.5$ s, se llega también a los 0.675 m. "
   ]
  },
  {
   "cell_type": "markdown",
   "id": "9b2eb09e",
   "metadata": {},
   "source": [
    "### Solución analítica  \n",
    "\n",
    "La solución analítica para este caso es\n",
    "$$\n",
    "x = x_0 + v t.\n",
    "$$\n",
    "Para este caso, con $v = 0.45$ m/s, y para el tiempo total $t = 1.5$ s, se encuentra que la posición final es 0.675 m, que es precisamente el valor que las celdas anteriores encuentran.\n",
    "\n",
    "*** hacer gráfico comparando las 2 ***"
   ]
  },
  {
   "cell_type": "markdown",
   "id": "e9ee8088",
   "metadata": {},
   "source": [
    "# Caso 2: Aceleración constante\n",
    "\n",
    "Consideremos ahora el caso en que el mismo cuerpo comienza su movimiento en $x=0$ con una velocidad de $0.45 m/s$ en el tiempo $t = 0 s$. Pero ahora, tiene una aceleración de 0.2 ${m/s}^2$. ¿Dónde estará en cuerpo en el tiempo $t = 1.5 s$?\n",
    "\n",
    "Para responder esta pregunta, intentaremos integrar la aceleración, aplicando un procedimiento similar al anteriormente usado."
   ]
  },
  {
   "cell_type": "markdown",
   "id": "4f2875de",
   "metadata": {},
   "source": [
    "La aceleración de define como la derivada de la velocidad respecto del tiempo. En una dimensión, esto es\n",
    "$$\n",
    "a = \\dfrac{d v}{d t}.\n",
    "$$\n",
    "Para una aceleración constante (o promedio), podemos escribir\n",
    "$$\n",
    "a = \\dfrac{\\Delta v}{\\Delta t} = \\dfrac{v_2 - v_1 }{\\Delta t},\n",
    "$$\n",
    "de donde se obtiene que\n",
    "$$\n",
    "v_2 = v_1 + a \\Delta t.\n",
    "$$"
   ]
  },
  {
   "cell_type": "markdown",
   "id": "2fe94c24",
   "metadata": {},
   "source": [
    "### Partiendo el problema en pequeñas partes \n",
    "\n",
    "Consideremos este problema tomando pequeños intervalos de 0.25 s. Aún podemos usar la fórmula ya obtenida para actualizar la posición. Pero, ¿qué pasa con la velocidad? Se puede usar la expresión anterior para actualizar la velocidad:\n",
    "$$\n",
    "v_2 = v_1 + a \\Delta t.\n",
    "$$\n",
    "Así, en cada paso uno puede calcular la nueva velocidad ocupando la aceleración, la antigua velocidad, y el intervalo de tiempo, es decir,\n",
    "$$\n",
    "v_3 = v_2 + a \\Delta t,\n",
    "$$\n",
    "$$\n",
    "v_4 = v_3 + a \\Delta t,\n",
    "$$\n",
    "y así sucesivamente.\n"
   ]
  },
  {
   "cell_type": "markdown",
   "id": "a3f2a4e9",
   "metadata": {},
   "source": [
    "Pero, ¿qué pasa con la posición en este caso? Aún podemos usar la expresión anterior $x_2 = x_1 + v_{prom} \\Delta t$ para calcularla pero, en este caso la velocidad va variando en el tiempo. Por esto, debemos elegir qué valor de la velocidad usaremos para el cálculo numérico. En este ejemplo, usaremos la velocidad final $v_2$ como aproximación de la velocidad promedio $v_{prom}$ para actualizar la posición. Esto es una buena aproximación si es que $\\Delta t$ es suficientemente pequeño. De esta manera, los cálculos se harán en los siguientes pasos:\n",
    "\n",
    "- Actualizar la velocidad a partir de la expresión $v_{i + 1} = v_i + a \\Delta t$, con $i = 1, 2, 3, ...$.\n",
    "- Actualizar la posición a partir de su expresión, ocupando la velocidad nueva, es decir, $x_{i + 1} = x_i + v_{i + 1} \\Delta t.$\n",
    "- Actualizar el tiempo, $t_{i + 1} = t_i + \\Delta t $, hasta llegar a $t = 1.5$ s.\n"
   ]
  },
  {
   "cell_type": "markdown",
   "id": "0297d5ef",
   "metadata": {},
   "source": [
    "### Primer cálculo: considerando un paso de 0.25 s."
   ]
  },
  {
   "cell_type": "code",
   "execution_count": 5,
   "id": "835e6c97",
   "metadata": {},
   "outputs": [
    {
     "name": "stdout",
     "output_type": "stream",
     "text": [
      "t =  0.25  s,   x =  0.125  m\n",
      "t =  0.5  s,   x =  0.2625  m\n",
      "t =  0.75  s,   x =  0.41250000000000003  m\n",
      "t =  1.0  s,   x =  0.5750000000000001  m\n",
      "t =  1.25  s,   x =  0.7500000000000001  m\n",
      "t =  1.5  s,   x =  0.9375000000000002  m\n"
     ]
    }
   ],
   "source": [
    "#Iniciamos las variables a su valor inicial original\n",
    "x = 0      # Posición inicial, en metros\n",
    "t = 0      # Tiempo inicial, en segundos\n",
    "v = 0.45   # Velocidad promedio inicial, en m/s\n",
    "a = 0.2    #Aceleración, en m/s^2\n",
    "\n",
    "#Ahora, definimos el intervalo de tiempo\n",
    "Dt = 0.25  #Intervalo de tiempo, en segundos\n",
    "\n",
    "#Se hace el cálculo, antualizando las variables de velocidad, posición y tiempo.\n",
    "while t < 1.5:  #\n",
    "    v = v + a*Dt\n",
    "    x = x + v*Dt     \n",
    "    t = t + Dt\n",
    "    print(\"t = \", t, \" s,   x = \", x, \" m\")"
   ]
  },
  {
   "cell_type": "markdown",
   "id": "a4d3fdf0",
   "metadata": {},
   "source": [
    "Como se puede ver, a $t = 1.5$ s, obtenemos que $x= 0.9375$ m. \n",
    "\n",
    "Se intenta ahora hacer con un paso de tiempo de $\\Delta t = 0.1$ s."
   ]
  },
  {
   "cell_type": "code",
   "execution_count": 6,
   "id": "466a17cc",
   "metadata": {},
   "outputs": [
    {
     "name": "stdout",
     "output_type": "stream",
     "text": [
      "t =  0.1  s,   x =  0.04700000000000001  m\n",
      "t =  0.2  s,   x =  0.09600000000000002  m\n",
      "t =  0.30000000000000004  s,   x =  0.14700000000000002  m\n",
      "t =  0.4  s,   x =  0.2  m\n",
      "t =  0.5  s,   x =  0.255  m\n",
      "t =  0.6  s,   x =  0.312  m\n",
      "t =  0.7  s,   x =  0.371  m\n",
      "t =  0.7999999999999999  s,   x =  0.432  m\n",
      "t =  0.8999999999999999  s,   x =  0.495  m\n",
      "t =  0.9999999999999999  s,   x =  0.56  m\n",
      "t =  1.0999999999999999  s,   x =  0.6270000000000001  m\n",
      "t =  1.2  s,   x =  0.6960000000000002  m\n",
      "t =  1.3  s,   x =  0.7670000000000002  m\n",
      "t =  1.4000000000000001  s,   x =  0.8400000000000003  m\n",
      "t =  1.5000000000000002  s,   x =  0.9150000000000004  m\n"
     ]
    }
   ],
   "source": [
    "#Iniciamos las variables a su valor inicial original\n",
    "x = 0      # Posición inicial, en metros\n",
    "t = 0      # Tiempo inicial, en segundos\n",
    "v = 0.45   # Velocidad promedio inicial, en m/s\n",
    "a = 0.2    #Aceleración, en m/s^2\n",
    "\n",
    "#Ahora, definimos el intervalo de tiempo\n",
    "Dt = 0.1  #Intervalo de tiempo, en segundos\n",
    "\n",
    "#Se hace el cálculo, antualizando las variables de velocidad, posición y tiempo.\n",
    "while t < 1.5:  #\n",
    "    v = v + a*Dt\n",
    "    x = x + v*Dt     \n",
    "    t = t + Dt\n",
    "    print(\"t = \", t, \" s,   x = \", x, \" m\")"
   ]
  },
  {
   "cell_type": "markdown",
   "id": "19c86c43",
   "metadata": {},
   "source": [
    "Para este caso, a $t = 1.5$ s la posición final es $x= 0.915$ m, valor $\\textit{distinto}$ al del caso anterior. \n",
    "\n",
    "Se intenta ahora una tercera vez, con un paso de tiempo de $\\Delta t = 0.05$ s."
   ]
  },
  {
   "cell_type": "code",
   "execution_count": 7,
   "id": "944d6538",
   "metadata": {},
   "outputs": [
    {
     "name": "stdout",
     "output_type": "stream",
     "text": [
      "t =  0.05  s,   x =  0.023000000000000003  m\n",
      "t =  0.1  s,   x =  0.04650000000000001  m\n",
      "t =  0.15000000000000002  s,   x =  0.07050000000000001  m\n",
      "t =  0.2  s,   x =  0.09500000000000001  m\n",
      "t =  0.25  s,   x =  0.12000000000000002  m\n",
      "t =  0.3  s,   x =  0.14550000000000002  m\n",
      "t =  0.35  s,   x =  0.1715  m\n",
      "t =  0.39999999999999997  s,   x =  0.198  m\n",
      "t =  0.44999999999999996  s,   x =  0.225  m\n",
      "t =  0.49999999999999994  s,   x =  0.2525  m\n",
      "t =  0.5499999999999999  s,   x =  0.2805  m\n",
      "t =  0.6  s,   x =  0.30900000000000005  m\n",
      "t =  0.65  s,   x =  0.3380000000000001  m\n",
      "t =  0.7000000000000001  s,   x =  0.3675000000000001  m\n",
      "t =  0.7500000000000001  s,   x =  0.39750000000000013  m\n",
      "t =  0.8000000000000002  s,   x =  0.42800000000000016  m\n",
      "t =  0.8500000000000002  s,   x =  0.4590000000000002  m\n",
      "t =  0.9000000000000002  s,   x =  0.4905000000000002  m\n",
      "t =  0.9500000000000003  s,   x =  0.5225000000000002  m\n",
      "t =  1.0000000000000002  s,   x =  0.5550000000000002  m\n",
      "t =  1.0500000000000003  s,   x =  0.5880000000000002  m\n",
      "t =  1.1000000000000003  s,   x =  0.6215000000000002  m\n",
      "t =  1.1500000000000004  s,   x =  0.6555000000000002  m\n",
      "t =  1.2000000000000004  s,   x =  0.6900000000000002  m\n",
      "t =  1.2500000000000004  s,   x =  0.7250000000000002  m\n",
      "t =  1.3000000000000005  s,   x =  0.7605000000000002  m\n",
      "t =  1.3500000000000005  s,   x =  0.7965000000000002  m\n",
      "t =  1.4000000000000006  s,   x =  0.8330000000000002  m\n",
      "t =  1.4500000000000006  s,   x =  0.8700000000000002  m\n",
      "t =  1.5000000000000007  s,   x =  0.9075000000000002  m\n"
     ]
    }
   ],
   "source": [
    "#Iniciamos las variables a su valor inicial original\n",
    "x = 0      # Posición inicial, en metros\n",
    "t = 0      # Tiempo inicial, en segundos\n",
    "v = 0.45   # Velocidad promedio inicial, en m/s\n",
    "a = 0.2    #Aceleración, en m/s^2\n",
    "\n",
    "#Ahora, definimos el intervalo de tiempo\n",
    "Dt = 0.05  #Intervalo de tiempo, en segundos\n",
    "\n",
    "#Se hace el cálculo, antualizando las variables de velocidad, posición y tiempo.\n",
    "while t < 1.5:  #\n",
    "    v = v + a*Dt\n",
    "    x = x + v*Dt     \n",
    "    t = t + Dt\n",
    "    print(\"t = \", t, \" s,   x = \", x, \" m\")"
   ]
  },
  {
   "cell_type": "markdown",
   "id": "3061d4c4",
   "metadata": {},
   "source": [
    "Como puede verse, para este último caso, a $t = 1.5$ s, se llega a los 0.9075 m, que es un valor $\\textit{distinto}$ a los dos casos anteriores. ¿Qué está pasando?\n"
   ]
  },
  {
   "cell_type": "markdown",
   "id": "0ed3e6f2",
   "metadata": {},
   "source": [
    "### Solución analítica \n",
    "Como se puede ver de las celdas anteriores, el valor final para la posición es distinto para los 3 casos estudiados. Sin embargo, parece acercarse a 0.9 m a medida que el intervalo de tiempo se hace más pequeño.\n",
    "\n",
    "Recordemos que para este caso la solución analítica es\n",
    "$$\n",
    "x(t) = x_0 + v_0 t + \\dfrac{a}{2} t^2.\n",
    "$$\n",
    "Con los datos que tenemos, es decir, $v_0 = 0.45$ m/s, $a = 0.2$ m/s^2, y $t = 1.5$ s, se obtiene que la posición final es de 0.9 m. Como se puede ver, nuestro cálculo numérico parece converger a este valor a medida que el intervalo de tiempo $\\Delta t$ es más pequeño. Esto tiene sentido, pues la solución analítica se construye como una solución de una ecuación diferencial, donde el tiempo es infinitesimal. Por eso es que la solución numérica se aproxima a la analítica cuando el intervalo de tiempo se hace cada vez más pequeño."
   ]
  },
  {
   "cell_type": "markdown",
   "id": "2d57ac08",
   "metadata": {},
   "source": [
    "Se mostrarán las diferencias entre el resultado teórico y este cálculo analítico."
   ]
  },
  {
   "cell_type": "code",
   "execution_count": 8,
   "id": "5e00867c",
   "metadata": {},
   "outputs": [],
   "source": [
    "#Iniciamos las variables a su valor inicial original\n",
    "x_1 = 0      # Posición inicial, en metros\n",
    "t_1 = 0      # Tiempo inicial, en segundos\n",
    "v_1 = 0.45   # Velocidad promedio inicial, en m/s\n",
    "a = 0.2    #Aceleración, en m/s^2\n",
    "\n",
    "#Ahora, definimos el intervalo de tiempo\n",
    "Dt_1 = 0.25  #Intervalo de tiempo, en segundos\n",
    "\n",
    "t_1_array = []\n",
    "x_1_array = []\n",
    "\n",
    "#Se hace el cálculo.\n",
    "while t_1 < 1.5:  #\n",
    "    v_1 = v_1 + a*Dt_1\n",
    "    x_1 = x_1 + v_1*Dt_1     \n",
    "    t_1 = t_1 + Dt_1\n",
    "    \n",
    "    t_1_array.append(t_1)\n",
    "    x_1_array.append(x_1)\n",
    "\n",
    "    \n",
    "\n",
    "#Iniciamos las variables a su valor inicial original\n",
    "x_2 = 0      # Posición inicial, en metros\n",
    "t_2 = 0      # Tiempo inicial, en segundos\n",
    "v_2 = 0.45   # Velocidad promedio inicial, en m/s\n",
    "          #Aceleración, en m/s^2\n",
    "\n",
    "#Ahora, definimos el intervalo de tiempo\n",
    "Dt_2 = 0.1  #Intervalo de tiempo, en segundos\n",
    "\n",
    "t_2_array = []\n",
    "x_2_array = []\n",
    "\n",
    "\n",
    "#Se hace el cálculo.\n",
    "while t_2 < 1.5:  #\n",
    "    v_2 = v_2 + a*Dt_2\n",
    "    x_2 = x_2 + v_2*Dt_2     \n",
    "    t_2 = t_2 + Dt_2\n",
    "\n",
    "    t_2_array.append(t_2)\n",
    "    x_2_array.append(x_2)\n",
    "\n",
    "#Iniciamos las variables a su valor inicial original\n",
    "x_3 = 0      # Posición inicial, en metros\n",
    "t_3 = 0      # Tiempo inicial, en segundos\n",
    "v_3 = 0.45   # Velocidad promedio inicial, en m/s\n",
    "          #Aceleración, en m/s^2\n",
    "\n",
    "#Ahora, definimos el intervalo de tiempo\n",
    "Dt_3 = 0.05  #Intervalo de tiempo, en segundos\n",
    "\n",
    "t_3_array = []\n",
    "x_3_array = []\n",
    "\n",
    "#Se hace el cálculo.\n",
    "while t_3 < 1.5:  #\n",
    "    v_3 = v_3 + a*Dt_3\n",
    "    x_3 = x_3 + v_3*Dt_3     \n",
    "    t_3 = t_3 + Dt_3\n",
    "    \n",
    "    t_3_array.append(t_3)\n",
    "    x_3_array.append(x_3)\n",
    "# hacer el scatter de la diferencia entre el numérico y el analítico\n",
    "# hacer una versión con arreglos de numpy, areglos para el tiempo, y append para las salidas de la posición, y graficar los arreglos\n",
    "# array de nunmpy para la solución analítica\n",
    "\n"
   ]
  },
  {
   "cell_type": "code",
   "execution_count": 11,
   "id": "a129666d",
   "metadata": {},
   "outputs": [
    {
     "data": {
      "text/plain": [
       "<matplotlib.collections.PathCollection at 0x1d83cd4d430>"
      ]
     },
     "execution_count": 11,
     "metadata": {},
     "output_type": "execute_result"
    },
    {
     "data": {
      "image/png": "[encoded data removed]",
      "text/plain": [
       "<Figure size 432x288 with 1 Axes>"
      ]
     },
     "metadata": {
      "needs_background": "light"
     },
     "output_type": "display_data"
    }
   ],
   "source": [
    "def solucion_analitica(t):\n",
    "    return 0.45*t + 0.2*t**2/2\n",
    "\n",
    "x_1_analitico = solucion_analitica(np.array(t_1_array))\n",
    "x_2_analitico = solucion_analitica(np.array(t_2_array))\n",
    "x_3_analitico = solucion_analitica(np.array(t_3_array))\n",
    "\n",
    "plt.scatter(t_1_array,x_1_array-x_1_analitico, c='green', marker='+')\n",
    "plt.scatter(t_2_array,x_2_array-x_2_analitico, c='blue', marker='+')\n",
    "plt.scatter(t_3_array,x_3_array-x_3_analitico, c='red', marker='+')\n"
   ]
  },
  {
   "cell_type": "code",
   "execution_count": null,
   "id": "02b592d2",
   "metadata": {},
   "outputs": [],
   "source": []
  }
 ],
 "metadata": {
  "colab": {
   "name": "caida-vertical.ipynb",
   "provenance": []
  },
  "kernelspec": {
   "display_name": "Python 3 (ipykernel)",
   "language": "python",
   "name": "python3"
  },
  "language_info": {
   "codemirror_mode": {
    "name": "ipython",
    "version": 3
   },
   "file_extension": ".py",
   "mimetype": "text/x-python",
   "name": "python",
   "nbconvert_exporter": "python",
   "pygments_lexer": "ipython3",
   "version": "3.9.12"
  },
  "vscode": {
   "interpreter": {
    "hash": "4cd28790703ce3bb6dcb427ace24f71a3069bf0458cb4f1d5e2a3e723eb1e9df"
   }
  }
 },
 "nbformat": 4,
 "nbformat_minor": 5
}
